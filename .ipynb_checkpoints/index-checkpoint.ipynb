{
 "cells": [
  {
   "cell_type": "markdown",
   "metadata": {},
   "source": [
    "# ECE 4160 Fast Robots\n",
    "### Emily Speckhals (ems395)"
   ]
  },
  {
   "cell_type": "markdown",
   "metadata": {},
   "source": [
    "## About\n",
    "<img src=\"./img/me.jpg\" alt=\"isolated\" width=\"100\"/>\n",
    "I am a junior ECE. Outside of class I enjoy running and working on the Formula SAE team. This is where I will be posting content from ECE 4160 labs. "
   ]
  },
  {
   "cell_type": "markdown",
   "metadata": {},
   "source": [
    "## Index\n",
    "[Lab 1](#lab_1)  \n",
    "[Lab 2](#lab_2)"
   ]
  },
  {
   "cell_type": "markdown",
   "metadata": {},
   "source": [
    "## Lab 1\n",
    "<a id='lab_1'></a>\n",
    "To familiarize ourselves with the Artemis Nano Board we ran several example programs through the Arduino IDE. \n",
    "\n",
    "### Setup\n",
    "First I installed the Arduino IDE and supporting Apollo libraries. This was very straightforward due to documentation like [this](https://learn.sparkfun.com/tutorials/artemis-development-with-arduino?_ga=2.30055167.1151850962.1594648676-1889762036.1574524297&_gac=1.19903818.1593457111.Cj0KCQjwoub3BRC6ARIsABGhnyahkG7hU2v-0bSiAeprvZ7c9v0XEKYdVHIIi_-J-m5YLdDBMc2P_goaAtA4EALw_wcB).  \n",
    "The the IDE with examples installed is shown below.  \n",
    "<img src=\"./img/lab1/example_code.png\" alt=\"isolated\" width=\"100\"/>\n",
    "\n",
    "\n",
    "### Example Programs  \n",
    "Next I ran example programs to test the functionality of the board. Running example code through Arduino IDE is very straightforward: examples both standard to Arduino and loaded specifically for the Apollo3 microcontroller can be selected from a dropdown in the IDE and compiled and run using the respective buttons.    \n",
    "* Blinking LED  \n",
    "The first example simply toggles a built-in LED on the Artemis board using the functions digitalWrite() and delay() which are built into Arduino. The only modification of the template code required is to specify the pin number of the built in LED, however this is handled throught the Arduino IDE via the macro LED_BUILTIN since the user specifies the board being used within the IDE.   \n",
    "[![Blinking LEDs](https://youtube.com/shorts/HqcgEbv8VFo?feature=share)](https://youtube.com/shorts/HqcgEbv8VFo?feature=share \"LED Blink\")\n",
    "\n",
    "* Serial I/O  \n",
    "The next program allows the user to interact with the board via the serial monitor in the Arduino IDE. The program prints the statement \"printf supports printing formatted strings!\" 10 times along with an incrementing counter. After this sample text is outputted, the user can input characters to the serial monitor and the board will \"echo\" or print out the characters entered. The program consists of functions including Serial.write, Serial.read and Serial.printf. In order for the example code to work on the Artemis board, I had to change the baud rate from the default of 9600 to 115200.  \n",
    "<img src=\"./img/lab1/serial_monitor.png\" alt=\"isolated\" width=\"100\"/>\n",
    "\n",
    "* Analog read (temperature sensor)  \n",
    "The analog read example reports the temerature at the board in ADC counts by reading the analog voltage on the selected pin. The temperature, time elapsed, and other voltages are reported via the serial monitor. This is accomplished using analogRead functions included for the Artemis Nano board.  \n",
    "<img src=\"./img/lab1/temp.png\" alt=\"isolated\" width=\"100\"/>\n",
    "\n",
    "* Microphone  \n",
    "The microphone demo program reports the loudest frequency detected using an FFT. There is a pulse density microphone (PDM) included on the Artemis board.  \n",
    "<img src=\"./img/lab1/mic.png\" alt=\"isolated\" width=\"100\"/>\n"
   ]
  },
  {
   "cell_type": "markdown",
   "metadata": {},
   "source": [
    "## Lab 2\n",
    "<a id='lab_2'></a>"
   ]
  }
 ],
 "metadata": {
  "kernelspec": {
   "display_name": "Python 3",
   "language": "python",
   "name": "python3"
  },
  "language_info": {
   "codemirror_mode": {
    "name": "ipython",
    "version": 3
   },
   "file_extension": ".py",
   "mimetype": "text/x-python",
   "name": "python",
   "nbconvert_exporter": "python",
   "pygments_lexer": "ipython3",
   "version": "3.7.6"
  }
 },
 "nbformat": 4,
 "nbformat_minor": 4
}
